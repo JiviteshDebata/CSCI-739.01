{
 "cells": [
  {
   "attachments": {},
   "cell_type": "markdown",
   "metadata": {},
   "source": [
    "# Netwqrk Board\n",
    "Run the cell below and then open '127.0.0.1:5000' on your local browser. Every vehicle will be auto added when they are spawned ."
   ]
  },
  {
   "cell_type": "code",
   "execution_count": 7,
   "metadata": {},
   "outputs": [
    {
     "ename": "SyntaxError",
     "evalue": "invalid syntax (2939512575.py, line 3)",
     "output_type": "error",
     "traceback": [
      "\u001b[1;36m  File \u001b[1;32m\"C:\\Users\\jivitesh\\AppData\\Local\\Temp\\ipykernel_42220\\2939512575.py\"\u001b[1;36m, line \u001b[1;32m3\u001b[0m\n\u001b[1;33m    <iframe src=\"http://localhost:5001\" width=\"100%\" height=\"500\"></iframe>\u001b[0m\n\u001b[1;37m    ^\u001b[0m\n\u001b[1;31mSyntaxError\u001b[0m\u001b[1;31m:\u001b[0m invalid syntax\n"
     ]
    }
   ],
   "source": [
    "%run Services/NetworkBoard.py\n",
    "%%HTML\n",
    "<iframe src=\"http://localhost:5001\" width=\"100%\" height=\"500\"></iframe>\n"
   ]
  }
 ],
 "metadata": {
  "kernelspec": {
   "display_name": "carla_environment",
   "language": "python",
   "name": "python3"
  },
  "language_info": {
   "codemirror_mode": {
    "name": "ipython",
    "version": 3
   },
   "file_extension": ".py",
   "mimetype": "text/x-python",
   "name": "python",
   "nbconvert_exporter": "python",
   "pygments_lexer": "ipython3",
   "version": "3.7.16"
  },
  "orig_nbformat": 4
 },
 "nbformat": 4,
 "nbformat_minor": 2
}
