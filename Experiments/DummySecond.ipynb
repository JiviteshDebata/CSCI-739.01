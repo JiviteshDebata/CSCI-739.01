{
 "cells": [
  {
   "attachments": {},
   "cell_type": "markdown",
   "metadata": {},
   "source": [
    "# Second Agent\n",
    "Exactly same code. Just another agent .\n",
    "Make sure to select the conda environment setup for CARLA"
   ]
  },
  {
   "cell_type": "code",
   "execution_count": 1,
   "metadata": {},
   "outputs": [
    {
     "name": "stdout",
     "output_type": "stream",
     "text": [
      "pygame 2.3.0 (SDL 2.24.2, Python 3.7.16)\n",
      "Hello from the pygame community. https://www.pygame.org/contribute.html\n",
      "Jupyter environment detected. Enabling Open3D WebVisualizer.\n",
      "[Open3D INFO] WebRTC GUI backend enabled.\n",
      "[Open3D INFO] WebRTCWindowSystem: HTTP handshake server disabled.\n"
     ]
    }
   ],
   "source": [
    "%run Services/VehicleManager.py\n",
    "\n",
    "try:\n",
    "    client = VehicleManager()\n",
    "    client.game_loop()\n",
    "finally:\n",
    "    print('EXIT')"
   ]
  },
  {
   "attachments": {},
   "cell_type": "markdown",
   "metadata": {},
   "source": [
    "# Continuing Forward\n",
    "Now you should have 5 windows on your screen\n",
    "\n",
    "The carla \"GOD\" view mode . This is the simulator running in real time. The user has no controls on this but can move it around to view the ego vehicles and scenes\n",
    "\n",
    "Two local agent screens which will take keyboard input of WASD\n",
    "\n",
    "Two point cloud views that show live lidar feed from both vehicles\n",
    "\n",
    "To control a vehicle click on that agents view"
   ]
  },
  {
   "attachments": {},
   "cell_type": "markdown",
   "metadata": {},
   "source": [
    "# Network Board\n",
    "Move to DummyNetwork.ipynb for seeing your vehile stats live\n"
   ]
  }
 ],
 "metadata": {
  "kernelspec": {
   "display_name": "carla_environment",
   "language": "python",
   "name": "python3"
  },
  "language_info": {
   "codemirror_mode": {
    "name": "ipython",
    "version": 3
   },
   "file_extension": ".py",
   "mimetype": "text/x-python",
   "name": "python",
   "nbconvert_exporter": "python",
   "pygments_lexer": "ipython3",
   "version": "3.7.16"
  },
  "orig_nbformat": 4
 },
 "nbformat": 4,
 "nbformat_minor": 2
}
