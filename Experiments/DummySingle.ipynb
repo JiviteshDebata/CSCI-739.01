{
 "cells": [
  {
   "attachments": {},
   "cell_type": "markdown",
   "metadata": {},
   "source": [
    "# Get started\n",
    "Run CARLA.exe from your release in the background and select your prepared anaconda environment as the kernel\n",
    "Then run the cell below to get started. It will open spawn an ego vehicle in the world. It will also open up a window where you can control the ego vehicle with WASD keys\n",
    "Simultaneously you will also see a live lidar feed visualized in Open3d format."
   ]
  },
  {
   "cell_type": "code",
   "execution_count": 1,
   "metadata": {},
   "outputs": [
    {
     "name": "stdout",
     "output_type": "stream",
     "text": [
      "pygame 2.3.0 (SDL 2.24.2, Python 3.7.16)\n",
      "Hello from the pygame community. https://www.pygame.org/contribute.html\n",
      "Jupyter environment detected. Enabling Open3D WebVisualizer.\n",
      "[Open3D INFO] WebRTC GUI backend enabled.\n",
      "[Open3D INFO] WebRTCWindowSystem: HTTP handshake server disabled.\n"
     ]
    }
   ],
   "source": [
    "%run Services/VehicleManager.py\n",
    "try:\n",
    "    client = VehicleManager()\n",
    "    client.game_loop()\n",
    "finally:\n",
    "    print('EXIT')"
   ]
  },
  {
   "attachments": {},
   "cell_type": "markdown",
   "metadata": {},
   "source": [
    "# Repeat\n",
    "Keep the above cell running .\n",
    "Move to the DummySecond.ipynb notebook to get started on your second client"
   ]
  }
 ],
 "metadata": {
  "kernelspec": {
   "display_name": "carla_environment",
   "language": "python",
   "name": "python3"
  },
  "language_info": {
   "codemirror_mode": {
    "name": "ipython",
    "version": 3
   },
   "file_extension": ".py",
   "mimetype": "text/x-python",
   "name": "python",
   "nbconvert_exporter": "python",
   "pygments_lexer": "ipython3",
   "version": "3.7.16"
  },
  "orig_nbformat": 4
 },
 "nbformat": 4,
 "nbformat_minor": 2
}
